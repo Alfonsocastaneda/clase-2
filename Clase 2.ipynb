{
 "cells": [
  {
   "cell_type": "markdown",
   "metadata": {},
   "source": [
    "### Ejercicio 3"
   ]
  },
  {
   "cell_type": "code",
   "execution_count": 17,
   "metadata": {},
   "outputs": [
    {
     "name": "stdout",
     "output_type": "stream",
     "text": [
      "gire en la carrera 10\n"
     ]
    }
   ],
   "source": [
    "##forma basica establecer una variable\n",
    "\n",
    "giro = 'carrera 10'\n",
    "\n",
    "if giro == 'carrera 9':\n",
    "    print(\"gire en la\",giro)\n",
    "if giro == 'carrera 10':\n",
    "    print(\"gire en la\",giro)\n",
    "if giro == 'carrera 11':\n",
    "    print(\"gire en la\",giro)"
   ]
  },
  {
   "cell_type": "code",
   "execution_count": 20,
   "metadata": {},
   "outputs": [
    {
     "name": "stdout",
     "output_type": "stream",
     "text": [
      "ingrese la direccion: carrera 11\n",
      "gire en la carrera 11\n"
     ]
    }
   ],
   "source": [
    "## ingresar direccion por teclado\n",
    "\n",
    "giro = input(\"ingrese la direccion: \")\n",
    "\n",
    "if giro == 'carrera 9':\n",
    "    print(\"gire en la\",giro)\n",
    "if giro == 'carrera 10':\n",
    "    print(\"gire en la\",giro)\n",
    "if giro == 'carrera 11':\n",
    "    print(\"gire en la\",giro)"
   ]
  },
  {
   "cell_type": "code",
   "execution_count": 48,
   "metadata": {},
   "outputs": [],
   "source": [
    "## convertir en funcion\n",
    "\n",
    "def ejercicio3():\n",
    "    \n",
    "    giro = input(\"ingrese la direccion:\")\n",
    "\n",
    "    if giro == 'carrera 9':\n",
    "        print(\"gire en la\",giro)\n",
    "    if giro == 'carrera 10':\n",
    "        print(\"gire en la\",giro)\n",
    "    if giro == 'carrera 11':\n",
    "        print(\"gire en la\",giro)"
   ]
  },
  {
   "cell_type": "code",
   "execution_count": 49,
   "metadata": {},
   "outputs": [
    {
     "name": "stdout",
     "output_type": "stream",
     "text": [
      "ingrese la direccion:carrera 9\n",
      "gire en la carrera 9\n"
     ]
    }
   ],
   "source": [
    "ejercicio3()"
   ]
  },
  {
   "cell_type": "code",
   "execution_count": 13,
   "metadata": {},
   "outputs": [],
   "source": [
    "##Ejercicio 4\n",
    "\n",
    "def calculadora(a:float,b:float,opc:str):\n",
    "    if opc == \"+\":\n",
    "        c = a+b\n",
    "        print(c)\n",
    "    if opc == \"-\":\n",
    "        c = a-b\n",
    "        print(c)\n",
    "    if opc == \"*\":\n",
    "        c = a*b\n",
    "        print(c)\n",
    "    if opc == \"/\":\n",
    "        c = a/b\n",
    "        print(c)"
   ]
  },
  {
   "cell_type": "code",
   "execution_count": 16,
   "metadata": {},
   "outputs": [
    {
     "name": "stdout",
     "output_type": "stream",
     "text": [
      "18\n"
     ]
    }
   ],
   "source": [
    "calculadora(6,3,\"*\")"
   ]
  },
  {
   "cell_type": "markdown",
   "metadata": {},
   "source": [
    "   ### Tabla de amortizacion\n",
    "  "
   ]
  },
  {
   "cell_type": "code",
   "execution_count": 19,
   "metadata": {},
   "outputs": [],
   "source": [
    "def amortizar(d,t,n):\n",
    "    print(\"deuda:\",d)\n",
    "    print(\"tasa:\",t)\n",
    "    print(\"periodos:\",n)\n"
   ]
  },
  {
   "cell_type": "code",
   "execution_count": 20,
   "metadata": {},
   "outputs": [
    {
     "name": "stdout",
     "output_type": "stream",
     "text": [
      "deuda: 50000000\n",
      "tasa: 11.15\n",
      "periodos: 180\n"
     ]
    }
   ],
   "source": [
    "amortizar(50000000,11.15,180)"
   ]
  },
  {
   "cell_type": "code",
   "execution_count": 107,
   "metadata": {
    "scrolled": true
   },
   "outputs": [],
   "source": [
    "def amortizar(**kwarg): ###kwarg me permite meter listas y diccionarios\n",
    "    print(kwarg)\n",
    "    print(\"deuda: \",kwarg[\"d\"])\n",
    "    print(\"tasa: \",kwarg[\"t\"])\n",
    "    print(\"periodos: \",kwarg[\"n\"])\n",
    "    \n",
    "    d = float(kwarg[\"d\"])\n",
    "    t = float(kwarg[\"t\"])\n",
    "    n = int(kwarg[\"n\"])\n",
    "    \n",
    "    r = ( d * t ) / (1 - pow((1 + t), - n )) ## r= cuota\n",
    "    k = 0\n",
    "    tabla = []\n",
    "    while k!= n:\n",
    "        renglon = []\n",
    "        \n",
    "        i = d * t #intereses\n",
    "        a = r - i #amortizacion\n",
    "        d = d - a #deuda\n",
    "        k += 1 #contador de periodos\n",
    "        \n",
    "        renglon.append(i)\n",
    "        renglon.append(a)\n",
    "        renglon.append(int(d))\n",
    "        renglon.append(k)\n",
    "        tabla.append(renglon)\n",
    "        \n",
    "        for i in tabla:\n",
    "            print(i)"
   ]
  },
  {
   "cell_type": "code",
   "execution_count": 108,
   "metadata": {},
   "outputs": [
    {
     "name": "stdout",
     "output_type": "stream",
     "text": [
      "{'d': 5000000, 't': 0.11, 'n': 10}\n",
      "deuda:  5000000\n",
      "tasa:  0.11\n",
      "periodos:  10\n",
      "[550000.0, 299007.1354874512, 4700992, 1]\n",
      "[550000.0, 299007.1354874512, 4700992, 1]\n",
      "[517109.2150963804, 331897.92039107083, 4369094, 2]\n",
      "[550000.0, 299007.1354874512, 4700992, 1]\n",
      "[517109.2150963804, 331897.92039107083, 4369094, 2]\n",
      "[480600.4438533626, 368406.69163408864, 4000688, 3]\n",
      "[550000.0, 299007.1354874512, 4700992, 1]\n",
      "[517109.2150963804, 331897.92039107083, 4369094, 2]\n",
      "[480600.4438533626, 368406.69163408864, 4000688, 3]\n",
      "[440075.7077736128, 408931.4277138384, 3591756, 4]\n",
      "[550000.0, 299007.1354874512, 4700992, 1]\n",
      "[517109.2150963804, 331897.92039107083, 4369094, 2]\n",
      "[480600.4438533626, 368406.69163408864, 4000688, 3]\n",
      "[440075.7077736128, 408931.4277138384, 3591756, 4]\n",
      "[395093.2507250906, 453913.8847623606, 3137842, 5]\n",
      "[550000.0, 299007.1354874512, 4700992, 1]\n",
      "[517109.2150963804, 331897.92039107083, 4369094, 2]\n",
      "[480600.4438533626, 368406.69163408864, 4000688, 3]\n",
      "[440075.7077736128, 408931.4277138384, 3591756, 4]\n",
      "[395093.2507250906, 453913.8847623606, 3137842, 5]\n",
      "[345162.72340123093, 503844.4120862203, 2633998, 6]\n",
      "[550000.0, 299007.1354874512, 4700992, 1]\n",
      "[517109.2150963804, 331897.92039107083, 4369094, 2]\n",
      "[480600.4438533626, 368406.69163408864, 4000688, 3]\n",
      "[440075.7077736128, 408931.4277138384, 3591756, 4]\n",
      "[395093.2507250906, 453913.8847623606, 3137842, 5]\n",
      "[345162.72340123093, 503844.4120862203, 2633998, 6]\n",
      "[289739.8380717467, 559267.2974157045, 2074731, 7]\n",
      "[550000.0, 299007.1354874512, 4700992, 1]\n",
      "[517109.2150963804, 331897.92039107083, 4369094, 2]\n",
      "[480600.4438533626, 368406.69163408864, 4000688, 3]\n",
      "[440075.7077736128, 408931.4277138384, 3591756, 4]\n",
      "[395093.2507250906, 453913.8847623606, 3137842, 5]\n",
      "[345162.72340123093, 503844.4120862203, 2633998, 6]\n",
      "[289739.8380717467, 559267.2974157045, 2074731, 7]\n",
      "[228220.43535601918, 620786.700131432, 1453944, 8]\n",
      "[550000.0, 299007.1354874512, 4700992, 1]\n",
      "[517109.2150963804, 331897.92039107083, 4369094, 2]\n",
      "[480600.4438533626, 368406.69163408864, 4000688, 3]\n",
      "[440075.7077736128, 408931.4277138384, 3591756, 4]\n",
      "[395093.2507250906, 453913.8847623606, 3137842, 5]\n",
      "[345162.72340123093, 503844.4120862203, 2633998, 6]\n",
      "[289739.8380717467, 559267.2974157045, 2074731, 7]\n",
      "[228220.43535601918, 620786.700131432, 1453944, 8]\n",
      "[159933.89834156164, 689073.2371458896, 764871, 9]\n",
      "[550000.0, 299007.1354874512, 4700992, 1]\n",
      "[517109.2150963804, 331897.92039107083, 4369094, 2]\n",
      "[480600.4438533626, 368406.69163408864, 4000688, 3]\n",
      "[440075.7077736128, 408931.4277138384, 3591756, 4]\n",
      "[395093.2507250906, 453913.8847623606, 3137842, 5]\n",
      "[345162.72340123093, 503844.4120862203, 2633998, 6]\n",
      "[289739.8380717467, 559267.2974157045, 2074731, 7]\n",
      "[228220.43535601918, 620786.700131432, 1453944, 8]\n",
      "[159933.89834156164, 689073.2371458896, 764871, 9]\n",
      "[84135.8422555138, 764871.2932319375, 0, 10]\n"
     ]
    }
   ],
   "source": [
    "amortizar(d = 5000000, t = 0.11, n = 10)"
   ]
  },
  {
   "cell_type": "markdown",
   "metadata": {},
   "source": [
    "### multiplicacion de dos matrices (vectores)"
   ]
  },
  {
   "cell_type": "code",
   "execution_count": null,
   "metadata": {},
   "outputs": [],
   "source": [
    "import numpy as np"
   ]
  },
  {
   "cell_type": "code",
   "execution_count": 115,
   "metadata": {},
   "outputs": [],
   "source": [
    "A = np.array([[2,3,1],[2,-7,4]]) ## pendiente para la proxima clase"
   ]
  },
  {
   "cell_type": "markdown",
   "metadata": {},
   "source": [
    "### Busqueda de caracter"
   ]
  },
  {
   "cell_type": "code",
   "execution_count": 122,
   "metadata": {},
   "outputs": [
    {
     "name": "stdout",
     "output_type": "stream",
     "text": [
      "lo encontre en  9\n"
     ]
    }
   ],
   "source": [
    "texto = \"clase de python x curso basico\"\n",
    "#print(len(texto)) len=largo\n",
    "caracter = \"p\"\n",
    "contador = 0\n",
    "\n",
    "for i in texto:\n",
    "    #contador = contador + 1\n",
    "    if i == caracter:\n",
    "        print(\"lo encontre en \", contador)\n",
    "    contador += 1"
   ]
  },
  {
   "cell_type": "code",
   "execution_count": 123,
   "metadata": {},
   "outputs": [
    {
     "name": "stdout",
     "output_type": "stream",
     "text": [
      "9\n"
     ]
    }
   ],
   "source": [
    "print(texto.find(\"p\")) #otra forma "
   ]
  }
 ],
 "metadata": {
  "kernelspec": {
   "display_name": "Python 3",
   "language": "python",
   "name": "python3"
  },
  "language_info": {
   "codemirror_mode": {
    "name": "ipython",
    "version": 3
   },
   "file_extension": ".py",
   "mimetype": "text/x-python",
   "name": "python",
   "nbconvert_exporter": "python",
   "pygments_lexer": "ipython3",
   "version": "3.8.5"
  }
 },
 "nbformat": 4,
 "nbformat_minor": 4
}
